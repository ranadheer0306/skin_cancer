{
 "cells": [
  {
   "cell_type": "markdown",
   "id": "9a74d3e0",
   "metadata": {},
   "source": [
    "### Importing essesntial libraries"
   ]
  },
  {
   "cell_type": "code",
   "execution_count": 20,
   "id": "91612e18",
   "metadata": {},
   "outputs": [],
   "source": [
    "import tensorflow\n",
    "from tensorflow import keras\n",
    "import numpy as np\n",
    "import matplotlib.pyplot as plt\n",
    "import warnings\n",
    "warnings.filterwarnings('ignore')"
   ]
  },
  {
   "cell_type": "markdown",
   "id": "cc556d37",
   "metadata": {},
   "source": [
    "### Importing latyers"
   ]
  },
  {
   "cell_type": "code",
   "execution_count": 2,
   "id": "df7389c5",
   "metadata": {},
   "outputs": [],
   "source": [
    "from tensorflow.keras.layers import Dense\n",
    "from tensorflow.keras.layers import Flatten,Dropout\n",
    "from tensorflow.keras.layers import Conv2D, MaxPooling2D,BatchNormalization"
   ]
  },
  {
   "cell_type": "markdown",
   "id": "f9ab34ca",
   "metadata": {},
   "source": [
    "### Architecture Preparation "
   ]
  },
  {
   "cell_type": "code",
   "execution_count": 3,
   "id": "95b0ff7a",
   "metadata": {},
   "outputs": [],
   "source": [
    "# CNN Architecture for Information Extraction from image\n",
    "model = tensorflow.keras.models.Sequential()\n",
    "model.add(Conv2D(32, (3, 3), input_shape = (100, 100, 3), activation = 'relu'))\n",
    "model.add(BatchNormalization())\n",
    "model.add(MaxPooling2D(pool_size=(2,2)))\n",
    "model.add(Dropout(0.25))\n",
    "model.add(Conv2D(64,(3,3),activation='relu'))\n",
    "model.add(MaxPooling2D(pool_size=(2,2)))\n",
    "model.add(Dropout(0.25))\n",
    "model.add(Conv2D(128,(3,3),activation='relu'))\n",
    "model.add(MaxPooling2D(pool_size=(2,2)))\n",
    "\n",
    "# Flattening Data\n",
    "# Converting into 1 Dimensional Array\n",
    "model.add(Flatten())\n",
    "\n",
    "# CNN Architecture for Model Building \n",
    "model.add(Dense(units=200,activation=\"relu\"))\n",
    "model.add(Dropout(0.25)) # to prevent overfiting\n",
    "model.add(Dense(units=150,activation=\"relu\"))\n",
    "model.add(Dense(units=100,activation=\"relu\"))\n",
    "model.add(Dropout(0.25))\n",
    "model.add(Dense(units=50,activation=\"relu\"))\n",
    "model.add(Dense(2,activation=\"softmax\"))"
   ]
  },
  {
   "cell_type": "markdown",
   "id": "a3c9eb96",
   "metadata": {},
   "source": [
    "### Model Compile "
   ]
  },
  {
   "cell_type": "code",
   "execution_count": 4,
   "id": "2535d87d",
   "metadata": {},
   "outputs": [],
   "source": [
    "# Model Compiling\n",
    "model.compile(optimizer=\"adam\",loss=\"categorical_crossentropy\",metrics=[\"accuracy\"])"
   ]
  },
  {
   "cell_type": "code",
   "execution_count": 6,
   "id": "d169f477",
   "metadata": {},
   "outputs": [],
   "source": [
    "# Image Pre-Processing\n",
    "from tensorflow.keras.preprocessing.image import ImageDataGenerator\n",
    "# Pre-Processing for Training and Testing\n",
    "train_datagen = ImageDataGenerator()\n",
    "test_datagen = ImageDataGenerator()"
   ]
  },
  {
   "cell_type": "code",
   "execution_count": 7,
   "id": "65bce6ed",
   "metadata": {},
   "outputs": [
    {
     "name": "stdout",
     "output_type": "stream",
     "text": [
      "Found 1234 images belonging to 2 classes.\n"
     ]
    }
   ],
   "source": [
    "# Applying on Trainig Data\n",
    "# Train Set\n",
    "training_set = train_datagen.flow_from_directory('train',\n",
    "                                                 target_size = (100, 100),\n",
    "                                                 batch_size = 100,\n",
    "                                                 class_mode = 'categorical')"
   ]
  },
  {
   "cell_type": "code",
   "execution_count": 9,
   "id": "bef853d8",
   "metadata": {},
   "outputs": [
    {
     "name": "stdout",
     "output_type": "stream",
     "text": [
      "Found 220 images belonging to 2 classes.\n"
     ]
    }
   ],
   "source": [
    "# Testing \n",
    "test_set = test_datagen.flow_from_directory('test',\n",
    "                                            target_size = (100, 100),\n",
    "                                            batch_size = 40,\n",
    "                                            class_mode = 'categorical')"
   ]
  },
  {
   "cell_type": "code",
   "execution_count": 11,
   "id": "0a479895",
   "metadata": {},
   "outputs": [
    {
     "name": "stdout",
     "output_type": "stream",
     "text": [
      "Epoch 1/100\n",
      "10/10 [==============================] - 106s 11s/step - loss: 0.5954 - accuracy: 0.6788 - val_loss: 3.0227 - val_accuracy: 0.5455\n",
      "Epoch 2/100\n",
      "10/10 [==============================] - 108s 11s/step - loss: 0.5537 - accuracy: 0.7002 - val_loss: 4.0777 - val_accuracy: 0.5455\n",
      "Epoch 3/100\n",
      "10/10 [==============================] - 105s 11s/step - loss: 0.5609 - accuracy: 0.6788 - val_loss: 1.4966 - val_accuracy: 0.5455\n",
      "Epoch 4/100\n",
      "10/10 [==============================] - 115s 12s/step - loss: 0.5213 - accuracy: 0.7110 - val_loss: 1.9482 - val_accuracy: 0.5455\n",
      "Epoch 5/100\n",
      "10/10 [==============================] - 109s 11s/step - loss: 0.4925 - accuracy: 0.7516 - val_loss: 2.8250 - val_accuracy: 0.5545\n",
      "Epoch 6/100\n",
      "10/10 [==============================] - 110s 11s/step - loss: 0.4860 - accuracy: 0.7441 - val_loss: 0.9437 - val_accuracy: 0.5818\n",
      "Epoch 7/100\n",
      "10/10 [==============================] - 111s 11s/step - loss: 0.4561 - accuracy: 0.7591 - val_loss: 1.4376 - val_accuracy: 0.5864\n",
      "Epoch 8/100\n",
      "10/10 [==============================] - 111s 12s/step - loss: 0.4663 - accuracy: 0.7548 - val_loss: 1.0699 - val_accuracy: 0.6045\n",
      "Epoch 9/100\n",
      "10/10 [==============================] - 116s 12s/step - loss: 0.4374 - accuracy: 0.7870 - val_loss: 0.8173 - val_accuracy: 0.6227\n",
      "Epoch 10/100\n",
      "10/10 [==============================] - 117s 12s/step - loss: 0.4439 - accuracy: 0.7859 - val_loss: 0.7566 - val_accuracy: 0.6545\n",
      "Epoch 11/100\n",
      "10/10 [==============================] - 119s 12s/step - loss: 0.4208 - accuracy: 0.7869 - val_loss: 0.6587 - val_accuracy: 0.6955\n",
      "Epoch 12/100\n",
      "10/10 [==============================] - 114s 12s/step - loss: 0.4151 - accuracy: 0.7848 - val_loss: 0.6264 - val_accuracy: 0.6909\n",
      "Epoch 13/100\n",
      "10/10 [==============================] - 119s 12s/step - loss: 0.3908 - accuracy: 0.8100 - val_loss: 0.7511 - val_accuracy: 0.6864\n",
      "Epoch 14/100\n",
      "10/10 [==============================] - 113s 11s/step - loss: 0.4179 - accuracy: 0.8137 - val_loss: 0.8098 - val_accuracy: 0.6864\n",
      "Epoch 15/100\n",
      "10/10 [==============================] - 116s 12s/step - loss: 0.3690 - accuracy: 0.8150 - val_loss: 0.6303 - val_accuracy: 0.6909\n",
      "Epoch 16/100\n",
      "10/10 [==============================] - 112s 11s/step - loss: 0.3468 - accuracy: 0.8394 - val_loss: 0.6748 - val_accuracy: 0.6955\n",
      "Epoch 17/100\n",
      "10/10 [==============================] - 114s 12s/step - loss: 0.3449 - accuracy: 0.8383 - val_loss: 0.7064 - val_accuracy: 0.6909\n",
      "Epoch 18/100\n",
      "10/10 [==============================] - 110s 11s/step - loss: 0.3523 - accuracy: 0.8201 - val_loss: 0.6685 - val_accuracy: 0.7091\n",
      "Epoch 19/100\n",
      "10/10 [==============================] - 111s 11s/step - loss: 0.3835 - accuracy: 0.8084 - val_loss: 0.6031 - val_accuracy: 0.6955\n",
      "Epoch 20/100\n",
      "10/10 [==============================] - 118s 12s/step - loss: 0.3539 - accuracy: 0.8300 - val_loss: 0.7350 - val_accuracy: 0.7227\n",
      "Epoch 21/100\n",
      "10/10 [==============================] - 108s 11s/step - loss: 0.3444 - accuracy: 0.8405 - val_loss: 0.7045 - val_accuracy: 0.7091\n",
      "Epoch 22/100\n",
      "10/10 [==============================] - 108s 11s/step - loss: 0.3537 - accuracy: 0.8415 - val_loss: 0.7409 - val_accuracy: 0.7227\n",
      "Epoch 23/100\n",
      "10/10 [==============================] - 109s 11s/step - loss: 0.3393 - accuracy: 0.8522 - val_loss: 0.8524 - val_accuracy: 0.7273\n",
      "Epoch 24/100\n",
      "10/10 [==============================] - 110s 11s/step - loss: 0.3170 - accuracy: 0.8587 - val_loss: 0.7728 - val_accuracy: 0.7091\n",
      "Epoch 25/100\n",
      "10/10 [==============================] - 111s 11s/step - loss: 0.2774 - accuracy: 0.8662 - val_loss: 0.7493 - val_accuracy: 0.7091\n",
      "Epoch 26/100\n",
      "10/10 [==============================] - 113s 11s/step - loss: 0.2848 - accuracy: 0.8683 - val_loss: 0.8025 - val_accuracy: 0.7682\n",
      "Epoch 27/100\n",
      "10/10 [==============================] - 112s 11s/step - loss: 0.2704 - accuracy: 0.8779 - val_loss: 0.9618 - val_accuracy: 0.7182\n",
      "Epoch 28/100\n",
      "10/10 [==============================] - 111s 11s/step - loss: 0.2739 - accuracy: 0.8865 - val_loss: 1.0092 - val_accuracy: 0.6727\n",
      "Epoch 29/100\n",
      "10/10 [==============================] - 114s 12s/step - loss: 0.2712 - accuracy: 0.8737 - val_loss: 0.9865 - val_accuracy: 0.7091\n",
      "Epoch 30/100\n",
      "10/10 [==============================] - 112s 11s/step - loss: 0.2409 - accuracy: 0.8983 - val_loss: 1.1620 - val_accuracy: 0.7091\n",
      "Epoch 31/100\n",
      "10/10 [==============================] - 111s 11s/step - loss: 0.2750 - accuracy: 0.8897 - val_loss: 1.0721 - val_accuracy: 0.6773\n",
      "Epoch 32/100\n",
      "10/10 [==============================] - 110s 11s/step - loss: 0.2750 - accuracy: 0.8715 - val_loss: 0.9509 - val_accuracy: 0.7000\n",
      "Epoch 33/100\n",
      "10/10 [==============================] - 112s 11s/step - loss: 0.2422 - accuracy: 0.8887 - val_loss: 0.9028 - val_accuracy: 0.7409\n",
      "Epoch 34/100\n",
      "10/10 [==============================] - 111s 11s/step - loss: 0.2344 - accuracy: 0.9036 - val_loss: 1.0741 - val_accuracy: 0.7182\n",
      "Epoch 35/100\n",
      "10/10 [==============================] - 112s 11s/step - loss: 0.2185 - accuracy: 0.9079 - val_loss: 0.9013 - val_accuracy: 0.6955\n",
      "Epoch 36/100\n",
      "10/10 [==============================] - 113s 12s/step - loss: 0.1895 - accuracy: 0.9176 - val_loss: 1.0914 - val_accuracy: 0.7273\n",
      "Epoch 37/100\n",
      "10/10 [==============================] - 115s 12s/step - loss: 0.1633 - accuracy: 0.9347 - val_loss: 1.4477 - val_accuracy: 0.6864\n",
      "Epoch 38/100\n",
      "10/10 [==============================] - 111s 12s/step - loss: 0.1902 - accuracy: 0.9251 - val_loss: 1.4986 - val_accuracy: 0.6500\n",
      "Epoch 39/100\n",
      "10/10 [==============================] - 111s 11s/step - loss: 0.2005 - accuracy: 0.9165 - val_loss: 1.1269 - val_accuracy: 0.6864\n",
      "Epoch 40/100\n",
      "10/10 [==============================] - 120s 12s/step - loss: 0.1842 - accuracy: 0.9310 - val_loss: 1.2212 - val_accuracy: 0.6773\n",
      "Epoch 41/100\n",
      "10/10 [==============================] - 116s 12s/step - loss: 0.1637 - accuracy: 0.9336 - val_loss: 1.2499 - val_accuracy: 0.7000\n",
      "Epoch 42/100\n",
      "10/10 [==============================] - 115s 12s/step - loss: 0.1464 - accuracy: 0.9358 - val_loss: 1.6528 - val_accuracy: 0.7091\n",
      "Epoch 43/100\n",
      "10/10 [==============================] - 115s 12s/step - loss: 0.1399 - accuracy: 0.9490 - val_loss: 1.4991 - val_accuracy: 0.7455\n",
      "Epoch 44/100\n",
      "10/10 [==============================] - 108s 11s/step - loss: 0.1064 - accuracy: 0.9572 - val_loss: 1.5991 - val_accuracy: 0.6909\n",
      "Epoch 45/100\n",
      "10/10 [==============================] - 110s 11s/step - loss: 0.1455 - accuracy: 0.9422 - val_loss: 2.0768 - val_accuracy: 0.7045\n",
      "Epoch 46/100\n",
      "10/10 [==============================] - 106s 11s/step - loss: 0.1554 - accuracy: 0.9433 - val_loss: 1.6661 - val_accuracy: 0.6955\n",
      "Epoch 47/100\n",
      "10/10 [==============================] - 156s 17s/step - loss: 0.1336 - accuracy: 0.9507 - val_loss: 1.6136 - val_accuracy: 0.7545\n",
      "Epoch 48/100\n",
      "10/10 [==============================] - 114s 12s/step - loss: 0.1179 - accuracy: 0.9540 - val_loss: 1.3620 - val_accuracy: 0.7045\n",
      "Epoch 49/100\n",
      "10/10 [==============================] - 118s 12s/step - loss: 0.1262 - accuracy: 0.9615 - val_loss: 1.6231 - val_accuracy: 0.7318\n",
      "Epoch 50/100\n",
      "10/10 [==============================] - 119s 12s/step - loss: 0.1484 - accuracy: 0.9497 - val_loss: 1.3359 - val_accuracy: 0.6773\n",
      "Epoch 51/100\n",
      "10/10 [==============================] - 124s 13s/step - loss: 0.1199 - accuracy: 0.9507 - val_loss: 1.2533 - val_accuracy: 0.7318\n",
      "Epoch 52/100\n",
      "10/10 [==============================] - 125s 13s/step - loss: 0.1589 - accuracy: 0.9540 - val_loss: 1.2986 - val_accuracy: 0.6955\n",
      "Epoch 53/100\n",
      "10/10 [==============================] - 117s 12s/step - loss: 0.0890 - accuracy: 0.9679 - val_loss: 1.5652 - val_accuracy: 0.7136\n",
      "Epoch 54/100\n",
      "10/10 [==============================] - 112s 11s/step - loss: 0.0977 - accuracy: 0.9625 - val_loss: 1.5013 - val_accuracy: 0.7273\n",
      "Epoch 55/100\n",
      "10/10 [==============================] - 125s 13s/step - loss: 0.1193 - accuracy: 0.9550 - val_loss: 1.5318 - val_accuracy: 0.7318\n",
      "Epoch 56/100\n",
      "10/10 [==============================] - 126s 13s/step - loss: 0.0994 - accuracy: 0.9620 - val_loss: 1.6159 - val_accuracy: 0.7409\n",
      "Epoch 57/100\n",
      "10/10 [==============================] - 124s 13s/step - loss: 0.0915 - accuracy: 0.9690 - val_loss: 1.5690 - val_accuracy: 0.7500\n"
     ]
    },
    {
     "name": "stdout",
     "output_type": "stream",
     "text": [
      "Epoch 58/100\n",
      "10/10 [==============================] - 158s 16s/step - loss: 0.0890 - accuracy: 0.9647 - val_loss: 1.6131 - val_accuracy: 0.7273\n",
      "Epoch 59/100\n",
      "10/10 [==============================] - 191s 21s/step - loss: 0.0731 - accuracy: 0.9722 - val_loss: 1.9142 - val_accuracy: 0.7273\n",
      "Epoch 60/100\n",
      "10/10 [==============================] - 178s 19s/step - loss: 0.0676 - accuracy: 0.9807 - val_loss: 2.1102 - val_accuracy: 0.7091\n",
      "Epoch 61/100\n",
      "10/10 [==============================] - 173s 18s/step - loss: 0.0456 - accuracy: 0.9807 - val_loss: 2.0916 - val_accuracy: 0.7227\n",
      "Epoch 62/100\n",
      "10/10 [==============================] - 177s 18s/step - loss: 0.0500 - accuracy: 0.9830 - val_loss: 1.9827 - val_accuracy: 0.7500\n",
      "Epoch 63/100\n",
      "10/10 [==============================] - 152s 15s/step - loss: 0.0465 - accuracy: 0.9818 - val_loss: 1.9923 - val_accuracy: 0.7273\n",
      "Epoch 64/100\n",
      "10/10 [==============================] - 150s 15s/step - loss: 0.0522 - accuracy: 0.9818 - val_loss: 1.9885 - val_accuracy: 0.7318\n",
      "Epoch 65/100\n",
      "10/10 [==============================] - 158s 16s/step - loss: 0.0719 - accuracy: 0.9800 - val_loss: 2.0383 - val_accuracy: 0.6818\n",
      "Epoch 66/100\n",
      "10/10 [==============================] - 151s 15s/step - loss: 0.0977 - accuracy: 0.9647 - val_loss: 1.7450 - val_accuracy: 0.7045\n",
      "Epoch 67/100\n",
      "10/10 [==============================] - 161s 16s/step - loss: 0.0722 - accuracy: 0.9710 - val_loss: 1.8342 - val_accuracy: 0.7136\n",
      "Epoch 68/100\n",
      "10/10 [==============================] - 147s 15s/step - loss: 0.0652 - accuracy: 0.9743 - val_loss: 1.9048 - val_accuracy: 0.7318\n",
      "Epoch 69/100\n",
      "10/10 [==============================] - 147s 15s/step - loss: 0.0600 - accuracy: 0.9786 - val_loss: 1.9766 - val_accuracy: 0.7591\n",
      "Epoch 70/100\n",
      "10/10 [==============================] - 147s 15s/step - loss: 0.0420 - accuracy: 0.9861 - val_loss: 1.9333 - val_accuracy: 0.7273\n",
      "Epoch 71/100\n",
      "10/10 [==============================] - 146s 15s/step - loss: 0.0608 - accuracy: 0.9786 - val_loss: 2.1982 - val_accuracy: 0.7273\n",
      "Epoch 72/100\n",
      "10/10 [==============================] - 148s 15s/step - loss: 0.0489 - accuracy: 0.9807 - val_loss: 2.1531 - val_accuracy: 0.7409\n",
      "Epoch 73/100\n",
      "10/10 [==============================] - 154s 17s/step - loss: 0.0491 - accuracy: 0.9818 - val_loss: 2.4039 - val_accuracy: 0.7364\n",
      "Epoch 74/100\n",
      "10/10 [==============================] - 153s 15s/step - loss: 0.0992 - accuracy: 0.9700 - val_loss: 1.9018 - val_accuracy: 0.7591\n",
      "Epoch 75/100\n",
      "10/10 [==============================] - 145s 15s/step - loss: 0.1042 - accuracy: 0.9657 - val_loss: 2.0852 - val_accuracy: 0.6955\n",
      "Epoch 76/100\n",
      "10/10 [==============================] - 150s 15s/step - loss: 0.0634 - accuracy: 0.9797 - val_loss: 1.9790 - val_accuracy: 0.7455\n",
      "Epoch 77/100\n",
      "10/10 [==============================] - 148s 16s/step - loss: 0.0573 - accuracy: 0.9797 - val_loss: 1.8309 - val_accuracy: 0.7182\n",
      "Epoch 78/100\n",
      "10/10 [==============================] - 151s 15s/step - loss: 0.0408 - accuracy: 0.9850 - val_loss: 1.7447 - val_accuracy: 0.7409\n",
      "Epoch 79/100\n",
      "10/10 [==============================] - 152s 15s/step - loss: 0.0591 - accuracy: 0.9829 - val_loss: 1.6809 - val_accuracy: 0.7500\n",
      "Epoch 80/100\n",
      "10/10 [==============================] - 156s 16s/step - loss: 0.0413 - accuracy: 0.9870 - val_loss: 1.7884 - val_accuracy: 0.7500\n",
      "Epoch 81/100\n",
      "10/10 [==============================] - 151s 15s/step - loss: 0.0559 - accuracy: 0.9807 - val_loss: 1.7744 - val_accuracy: 0.6909\n",
      "Epoch 82/100\n",
      "10/10 [==============================] - 159s 16s/step - loss: 0.0536 - accuracy: 0.9890 - val_loss: 1.9145 - val_accuracy: 0.7409\n",
      "Epoch 83/100\n",
      "10/10 [==============================] - 157s 16s/step - loss: 0.0431 - accuracy: 0.9870 - val_loss: 2.1956 - val_accuracy: 0.7364\n",
      "Epoch 84/100\n",
      "10/10 [==============================] - 145s 15s/step - loss: 0.0504 - accuracy: 0.9882 - val_loss: 2.0199 - val_accuracy: 0.7136\n",
      "Epoch 85/100\n",
      "10/10 [==============================] - 150s 15s/step - loss: 0.0301 - accuracy: 0.9882 - val_loss: 2.1409 - val_accuracy: 0.7273\n",
      "Epoch 86/100\n",
      "10/10 [==============================] - 146s 16s/step - loss: 0.0677 - accuracy: 0.9807 - val_loss: 1.5666 - val_accuracy: 0.6955\n",
      "Epoch 87/100\n",
      "10/10 [==============================] - 149s 15s/step - loss: 0.0640 - accuracy: 0.9722 - val_loss: 1.6109 - val_accuracy: 0.6591\n",
      "Epoch 88/100\n",
      "10/10 [==============================] - 150s 15s/step - loss: 0.0791 - accuracy: 0.9743 - val_loss: 1.5368 - val_accuracy: 0.6909\n",
      "Epoch 89/100\n",
      "10/10 [==============================] - 150s 15s/step - loss: 0.0662 - accuracy: 0.9797 - val_loss: 1.5249 - val_accuracy: 0.7500\n",
      "Epoch 90/100\n",
      "10/10 [==============================] - 150s 15s/step - loss: 0.0467 - accuracy: 0.9820 - val_loss: 1.8026 - val_accuracy: 0.6818\n",
      "Epoch 91/100\n",
      "10/10 [==============================] - 148s 15s/step - loss: 0.0421 - accuracy: 0.9839 - val_loss: 2.4104 - val_accuracy: 0.6955\n",
      "Epoch 92/100\n",
      "10/10 [==============================] - 161s 17s/step - loss: 0.0711 - accuracy: 0.9720 - val_loss: 2.1915 - val_accuracy: 0.6864\n",
      "Epoch 93/100\n",
      "10/10 [==============================] - 152s 15s/step - loss: 0.0567 - accuracy: 0.9839 - val_loss: 1.8355 - val_accuracy: 0.7182\n",
      "Epoch 94/100\n",
      "10/10 [==============================] - 145s 15s/step - loss: 0.0412 - accuracy: 0.9861 - val_loss: 1.8070 - val_accuracy: 0.7318\n",
      "Epoch 95/100\n",
      "10/10 [==============================] - 155s 16s/step - loss: 0.0585 - accuracy: 0.9890 - val_loss: 1.8672 - val_accuracy: 0.7136\n",
      "Epoch 96/100\n",
      "10/10 [==============================] - 161s 17s/step - loss: 0.0541 - accuracy: 0.9839 - val_loss: 1.9120 - val_accuracy: 0.7136\n",
      "Epoch 97/100\n",
      "10/10 [==============================] - 153s 16s/step - loss: 0.0497 - accuracy: 0.9914 - val_loss: 2.0103 - val_accuracy: 0.6955\n",
      "Epoch 98/100\n",
      "10/10 [==============================] - 152s 15s/step - loss: 0.0359 - accuracy: 0.9925 - val_loss: 1.9563 - val_accuracy: 0.7273\n",
      "Epoch 99/100\n",
      "10/10 [==============================] - 154s 15s/step - loss: 0.0519 - accuracy: 0.9850 - val_loss: 1.8722 - val_accuracy: 0.7455\n",
      "Epoch 100/100\n",
      "10/10 [==============================] - 148s 16s/step - loss: 0.0389 - accuracy: 0.9850 - val_loss: 1.8149 - val_accuracy: 0.6909\n"
     ]
    }
   ],
   "source": [
    "# Model Fitting\n",
    "classifier = model.fit_generator(training_set,\n",
    "                         steps_per_epoch = 10,\n",
    "                         epochs = 100,\n",
    "                         validation_data = test_set,    \n",
    "                         validation_steps = len(test_set))"
   ]
  },
  {
   "cell_type": "code",
   "execution_count": 22,
   "id": "38ac8f9b",
   "metadata": {},
   "outputs": [],
   "source": [
    "# Prediction\n",
    "from tensorflow.keras.preprocessing import image"
   ]
  },
  {
   "cell_type": "code",
   "execution_count": 23,
   "id": "9d2bd0e1",
   "metadata": {},
   "outputs": [
    {
     "name": "stdout",
     "output_type": "stream",
     "text": [
      "{'benign': 0, 'malignant': 1}\n",
      "[[0.9927987  0.00720127]]\n"
     ]
    }
   ],
   "source": [
    "pre = image.load_img(r\"C:\\Users\\Ranadheer\\Downloads\\skin_cancer_classification\\test\\benign\\ISIC_0357231.jpg\",target_size=(100,100))\n",
    "pre = image.img_to_array(pre)\n",
    "pre = np.expand_dims(pre,axis=0)\n",
    "result = model.predict(pre)\n",
    "print(training_set.class_indices)\n",
    "print(result)"
   ]
  },
  {
   "cell_type": "code",
   "execution_count": 24,
   "id": "656f8d07",
   "metadata": {},
   "outputs": [
    {
     "data": {
      "image/png": "[encoded data removed]",
      "text/plain": [
       "<Figure size 432x288 with 1 Axes>"
      ]
     },
     "metadata": {
      "needs_background": "light"
     },
     "output_type": "display_data"
    },
    {
     "data": {
      "image/png": "[encoded data removed]",
      "text/plain": [
       "<Figure size 432x288 with 1 Axes>"
      ]
     },
     "metadata": {
      "needs_background": "light"
     },
     "output_type": "display_data"
    }
   ],
   "source": [
    "plt.plot(classifier.history['accuracy'])\n",
    "plt.plot(classifier.history['val_accuracy'])\n",
    "plt.title('model accuracy')\n",
    "plt.ylabel('accuracy')\n",
    "plt.xlabel('epoch')\n",
    "plt.legend(['train', 'test'], loc='upper left')\n",
    "plt.show()\n",
    "# summarize history for loss\n",
    "plt.plot(classifier.history['loss'])\n",
    "plt.plot(classifier.history['val_loss'])\n",
    "plt.title('model loss')\n",
    "plt.ylabel('loss')\n",
    "plt.xlabel('epoch')\n",
    "plt.legend(['train', 'test'], loc='upper left')\n",
    "plt.show()"
   ]
  },
  {
   "cell_type": "code",
   "execution_count": 21,
   "id": "10ebbe51",
   "metadata": {},
   "outputs": [],
   "source": [
    "# Model Saving as Disk Format\n",
    "model.save(\"dog_cat_classification.h5\")"
   ]
  }
 ],
 "metadata": {
  "kernelspec": {
   "display_name": "Python 3",
   "language": "python",
   "name": "python3"
  },
  "language_info": {
   "codemirror_mode": {
    "name": "ipython",
    "version": 3
   },
   "file_extension": ".py",
   "mimetype": "text/x-python",
   "name": "python",
   "nbconvert_exporter": "python",
   "pygments_lexer": "ipython3",
   "version": "3.8.8"
  }
 },
 "nbformat": 4,
 "nbformat_minor": 5
}
